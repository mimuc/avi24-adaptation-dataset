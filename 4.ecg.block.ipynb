{
 "cells": [
  {
   "cell_type": "code",
   "execution_count": 1,
   "metadata": {},
   "outputs": [],
   "source": [
    "import tqdm\n",
    "import pandas as pd\n",
    "import numpy as np\n",
    "import neurokit2 as nk\n",
    "\n",
    "import pandas as pd\n",
    "import matplotlib.pyplot as plt\n",
    "plt.rcParams['text.usetex'] = True\n",
    "plt.rcParams['text.latex.preamble'] = r'''\\usepackage{libertine}\\usepackage{fontawesome5}\\usepackage[dvipsnames]{xcolor}'''\n",
    "plt.rcParams['ps.usedistiller'] = 'xpdf'\n",
    "import seaborn as sns\n",
    "sns.set_theme(style='ticks')\n",
    "\n",
    "import warnings\n",
    "warnings.filterwarnings('ignore')"
   ]
  },
  {
   "cell_type": "code",
   "execution_count": 2,
   "metadata": {},
   "outputs": [],
   "source": [
    "def load_ecg(pid):\n",
    "\n",
    "    dfECG = pd.read_csv(f\"./data/ID{pid}-ECG.csv\")\n",
    "    dfState = pd.read_csv(f\"./data/ID{pid}-state.csv\")\n",
    "    dfECG.drop(\"TimeLsl\", axis =1, inplace=True)\n",
    "    dfECG.loc[dfECG[(dfECG.Time > dfState['Time'][0]) & (dfECG.Time < dfState['Time'][0+1])].index, 'BlockNumber']   = dfState['BlockNumber'][0]\n",
    "    dfECG.loc[dfECG[(dfECG.Time > dfState['Time'][2]) & (dfECG.Time < dfState['Time'][2+1])].index, 'BlockNumber']   = dfState['BlockNumber'][2]\n",
    "    dfECG.loc[dfECG[(dfECG.Time > dfState['Time'][4]) & (dfECG.Time < dfState['Time'][4+1])].index, 'BlockNumber']   = dfState['BlockNumber'][4]\n",
    "    dfECG.loc[dfECG[(dfECG.Time > dfState['Time'][6]) & (dfECG.Time < dfState['Time'][6+1])].index, 'BlockNumber']   = dfState['BlockNumber'][6]\n",
    "    dfECG.loc[dfECG[(dfECG.Time > dfState['Time'][8]) & (dfECG.Time < dfState['Time'][8+1])].index, 'BlockNumber']  = dfState['BlockNumber'][8]\n",
    "    dfECG.loc[dfECG[(dfECG.Time > dfState['Time'][10]) & (dfECG.Time < dfState['Time'][10+1])].index, 'BlockNumber'] = dfState['BlockNumber'][10]\n",
    "    dfECG.loc[dfECG[(dfECG.Time > dfState['Time'][12]) & (dfECG.Time < dfState['Time'][12+1])].index, 'BlockNumber'] = dfState['BlockNumber'][12]\n",
    "    dfECG = dfECG.dropna()\n",
    "    dfECG = dfECG.sort_values(by=\"Time\")\n",
    "    return dfECG\n",
    "\n",
    "def get_block(df, block_number):\n",
    "    return df[df.BlockNumber == block_number]\n",
    "\n",
    "df_all = {}\n",
    "\n",
    "def extract_ecg_features(pid, df):\n",
    "    df_features = pd.DataFrame()\n",
    "    df_current = df\n",
    "\n",
    "    # # H10 Technical Specification\n",
    "    # # Sample rate = 130 Hz ± 2 % (Tamb = +20 … +40 °C)\n",
    "    # #               130 Hz ± 5 % (Tamb = -20 … +70 °C)\n",
    "    # # https://github.com/polarofficial/polar-ble-sdk/blob/master/technical_documentation/H10_ECG_Explained.docx\n",
    "    s, _ = nk.ecg_process(df_current['Value'], sampling_rate=130)\n",
    "    peaks, _ = nk.ecg_peaks(nk.ecg_clean(df_current['Value'], sampling_rate=130),\n",
    "                            sampling_rate=130,\n",
    "                            correct_artifacts=True)\n",
    "\n",
    "    try:\n",
    "        hrv_rmssd = np.mean(nk.hrv(peaks, sampling_rate=130)['HRV_RMSSD'])\n",
    "    except Exception:\n",
    "        hrv_rmssd = np.NaN\n",
    "\n",
    "\n",
    "    df_features = df_features.append(pd.DataFrame.from_dict([{\n",
    "        'pid': pid,\n",
    "        'block_number': df_current['BlockNumber'].iloc[0],\n",
    "        # https://neuropsychology.github.io/NeuroKit/functions/ecg.html?highlight=ecg_rate\n",
    "        'ecg_rate_mean': np.mean(s['ECG_Rate']),\n",
    "        'ecg_rate_var': np.var(s['ECG_Rate']),\n",
    "        # https://neuropsychology.github.io/NeuroKit/examples/ecg_hrv/ecg_hrv.html?highlight=rmssd\n",
    "        'hrv_rmssd': hrv_rmssd,\n",
    "    }]))\n",
    "    return df_features"
   ]
  },
  {
   "cell_type": "code",
   "execution_count": 3,
   "metadata": {},
   "outputs": [
    {
     "name": "stderr",
     "output_type": "stream",
     "text": [
      "100%|██████████| 23/23 [00:02<00:00,  7.95it/s]\n"
     ]
    }
   ],
   "source": [
    "pid_valid = list(range(1, 24))\n",
    "df_all = {}\n",
    "\n",
    "for pid in tqdm.tqdm(pid_valid):\n",
    "    if pid == 4 or pid == 8 or pid == 10 or pid == 15 or pid == 16 or pid == 17 or pid == 21:\n",
    "        continue\n",
    "    df = load_ecg(pid)\n",
    "    df_all[pid] = df"
   ]
  },
  {
   "cell_type": "code",
   "execution_count": 4,
   "metadata": {},
   "outputs": [
    {
     "name": "stdout",
     "output_type": "stream",
     "text": [
      "current pid:  1\n",
      "current pid:  2\n",
      "current pid:  3\n",
      "current pid:  4\n",
      "current pid:  5\n",
      "current pid:  6\n",
      "current pid:  7\n",
      "current pid:  8\n",
      "current pid:  9\n",
      "current pid:  10\n",
      "current pid:  11\n",
      "current pid:  12\n",
      "current pid:  13\n",
      "current pid:  14\n",
      "current pid:  15\n",
      "current pid:  16\n",
      "current pid:  17\n",
      "current pid:  18\n",
      "current pid:  19\n",
      "current pid:  20\n",
      "current pid:  21\n",
      "current pid:  22\n",
      "current pid:  23\n"
     ]
    },
    {
     "data": {
      "text/html": [
       "<div>\n",
       "<style scoped>\n",
       "    .dataframe tbody tr th:only-of-type {\n",
       "        vertical-align: middle;\n",
       "    }\n",
       "\n",
       "    .dataframe tbody tr th {\n",
       "        vertical-align: top;\n",
       "    }\n",
       "\n",
       "    .dataframe thead th {\n",
       "        text-align: right;\n",
       "    }\n",
       "</style>\n",
       "<table border=\"1\" class=\"dataframe\">\n",
       "  <thead>\n",
       "    <tr style=\"text-align: right;\">\n",
       "      <th></th>\n",
       "      <th>pid</th>\n",
       "      <th>block_number</th>\n",
       "      <th>ecg_rate_mean</th>\n",
       "      <th>ecg_rate_var</th>\n",
       "      <th>hrv_rmssd</th>\n",
       "    </tr>\n",
       "  </thead>\n",
       "  <tbody>\n",
       "    <tr>\n",
       "      <th>0</th>\n",
       "      <td>1</td>\n",
       "      <td>1.0</td>\n",
       "      <td>95.345525</td>\n",
       "      <td>659.755498</td>\n",
       "      <td>268.963986</td>\n",
       "    </tr>\n",
       "    <tr>\n",
       "      <th>0</th>\n",
       "      <td>1</td>\n",
       "      <td>6.0</td>\n",
       "      <td>95.228705</td>\n",
       "      <td>718.533571</td>\n",
       "      <td>288.091628</td>\n",
       "    </tr>\n",
       "    <tr>\n",
       "      <th>0</th>\n",
       "      <td>1</td>\n",
       "      <td>4.0</td>\n",
       "      <td>94.828516</td>\n",
       "      <td>760.207311</td>\n",
       "      <td>303.001170</td>\n",
       "    </tr>\n",
       "    <tr>\n",
       "      <th>0</th>\n",
       "      <td>1</td>\n",
       "      <td>2.0</td>\n",
       "      <td>94.174818</td>\n",
       "      <td>692.298862</td>\n",
       "      <td>287.803725</td>\n",
       "    </tr>\n",
       "    <tr>\n",
       "      <th>0</th>\n",
       "      <td>1</td>\n",
       "      <td>7.0</td>\n",
       "      <td>92.419487</td>\n",
       "      <td>833.728590</td>\n",
       "      <td>331.050488</td>\n",
       "    </tr>\n",
       "    <tr>\n",
       "      <th>...</th>\n",
       "      <td>...</td>\n",
       "      <td>...</td>\n",
       "      <td>...</td>\n",
       "      <td>...</td>\n",
       "      <td>...</td>\n",
       "    </tr>\n",
       "    <tr>\n",
       "      <th>0</th>\n",
       "      <td>23</td>\n",
       "      <td>4.0</td>\n",
       "      <td>95.306382</td>\n",
       "      <td>890.665676</td>\n",
       "      <td>316.952605</td>\n",
       "    </tr>\n",
       "    <tr>\n",
       "      <th>0</th>\n",
       "      <td>23</td>\n",
       "      <td>5.0</td>\n",
       "      <td>93.902097</td>\n",
       "      <td>803.595971</td>\n",
       "      <td>307.356819</td>\n",
       "    </tr>\n",
       "    <tr>\n",
       "      <th>0</th>\n",
       "      <td>23</td>\n",
       "      <td>7.0</td>\n",
       "      <td>96.710182</td>\n",
       "      <td>850.241299</td>\n",
       "      <td>297.374839</td>\n",
       "    </tr>\n",
       "    <tr>\n",
       "      <th>0</th>\n",
       "      <td>23</td>\n",
       "      <td>2.0</td>\n",
       "      <td>95.077711</td>\n",
       "      <td>905.353914</td>\n",
       "      <td>350.297737</td>\n",
       "    </tr>\n",
       "    <tr>\n",
       "      <th>0</th>\n",
       "      <td>23</td>\n",
       "      <td>1.0</td>\n",
       "      <td>96.981867</td>\n",
       "      <td>817.543733</td>\n",
       "      <td>317.432443</td>\n",
       "    </tr>\n",
       "  </tbody>\n",
       "</table>\n",
       "<p>112 rows × 5 columns</p>\n",
       "</div>"
      ],
      "text/plain": [
       "    pid  block_number  ecg_rate_mean  ecg_rate_var   hrv_rmssd\n",
       "0     1           1.0      95.345525    659.755498  268.963986\n",
       "0     1           6.0      95.228705    718.533571  288.091628\n",
       "0     1           4.0      94.828516    760.207311  303.001170\n",
       "0     1           2.0      94.174818    692.298862  287.803725\n",
       "0     1           7.0      92.419487    833.728590  331.050488\n",
       "..  ...           ...            ...           ...         ...\n",
       "0    23           4.0      95.306382    890.665676  316.952605\n",
       "0    23           5.0      93.902097    803.595971  307.356819\n",
       "0    23           7.0      96.710182    850.241299  297.374839\n",
       "0    23           2.0      95.077711    905.353914  350.297737\n",
       "0    23           1.0      96.981867    817.543733  317.432443\n",
       "\n",
       "[112 rows x 5 columns]"
      ]
     },
     "execution_count": 4,
     "metadata": {},
     "output_type": "execute_result"
    }
   ],
   "source": [
    "df = pd.DataFrame()\n",
    "for pid in pid_valid:\n",
    "    print('current pid: ', pid)\n",
    "    if pid == 4 or pid == 8 or pid == 10 or pid == 15 or pid == 16 or pid == 17 or pid == 21:\n",
    "        continue\n",
    "    blocknumbers = df_all[pid].BlockNumber.unique()\n",
    "    for block_number in blocknumbers:\n",
    "        df_current = get_block(df_all[pid], block_number)\n",
    "        df_features = extract_ecg_features(pid, df_current)\n",
    "        df = df.append(df_features)\n",
    "df"
   ]
  },
  {
   "cell_type": "code",
   "execution_count": 5,
   "metadata": {},
   "outputs": [],
   "source": [
    "df['ecg_rate_mean_norm'] = (df['ecg_rate_mean'] - df['ecg_rate_mean'].min()) / (df['ecg_rate_mean'].max() - df['ecg_rate_mean'].min())\n",
    "df['hrv_rmssd_norm'] = (df['hrv_rmssd'] - df['hrv_rmssd'].min()) / (df['hrv_rmssd'].max() - df['hrv_rmssd'].min())"
   ]
  },
  {
   "cell_type": "code",
   "execution_count": 6,
   "metadata": {},
   "outputs": [],
   "source": [
    "df.to_csv(\"./processed/ecg_block.csv\", index=False)"
   ]
  },
  {
   "cell_type": "code",
   "execution_count": 2,
   "metadata": {},
   "outputs": [],
   "source": [
    "df = pd.read_csv(\"./processed/ecg_block.csv\")"
   ]
  },
  {
   "cell_type": "code",
   "execution_count": 17,
   "metadata": {},
   "outputs": [
    {
     "name": "stderr",
     "output_type": "stream",
     "text": [
      "No artists with labels found to put in legend.  Note that artists whose label start with an underscore are ignored when legend() is called with no argument.\n",
      "No artists with labels found to put in legend.  Note that artists whose label start with an underscore are ignored when legend() is called with no argument.\n"
     ]
    },
    {
     "data": {
      "image/png": "[encoded data removed]",
      "text/plain": [
       "<Figure size 576x216 with 2 Axes>"
      ]
     },
     "metadata": {
      "needs_background": "light"
     },
     "output_type": "display_data"
    }
   ],
   "source": [
    "fig, axes = plt.subplots(1, 2, figsize=(8, 3))\n",
    "colors = sns.color_palette('vlag', n_colors=5)\n",
    "# colors = ['#d81b60', '#1e88e5', '#ffc107', '#26A08C', '#5945c5']\n",
    "sns.boxplot(x='block_number', y='ecg_rate_mean', data=df[(df.block_number != 6)&(df.block_number != 7)],  ax=axes[0], palette=colors, showfliers=False, saturation=1)\n",
    "sns.boxplot(x='block_number', y='hrv_rmssd', data=df[(df.block_number != 6)&(df.block_number != 7)], ax=axes[1], palette=colors, showfliers=False, saturation=1)\n",
    "\n",
    "axes[0].set_ylabel('HR (bpm)',fontsize=18)\n",
    "axes[1].set_ylabel('HRV (ms)',fontsize=18)\n",
    "\n",
    "axes[0].set_xticklabels(['24', '110', '191', '270', '347'], fontsize=18)\n",
    "axes[1].set_xticklabels(['24', '110', '191', '270', '347'], fontsize=18)\n",
    "\n",
    "\n",
    "axes[0].legend().set_visible(False)\n",
    "axes[1].legend().set_visible(False)\n",
    "handles, labels = axes[1].get_legend_handles_labels()\n",
    "\n",
    "axes[0].set_xlabel('Stream (NPCs)', fontsize=18)\n",
    "axes[1].set_xlabel('Stream (NPCs)', fontsize=18)\n",
    "\n",
    "plt.tight_layout()\n",
    "plt.savefig('figures/ecg_block.pdf')"
   ]
  },
  {
   "cell_type": "code",
   "execution_count": null,
   "metadata": {},
   "outputs": [],
   "source": []
  }
 ],
 "metadata": {
  "kernelspec": {
   "display_name": "mdpi-data",
   "language": "python",
   "name": "python3"
  },
  "language_info": {
   "codemirror_mode": {
    "name": "ipython",
    "version": 3
   },
   "file_extension": ".py",
   "mimetype": "text/x-python",
   "name": "python",
   "nbconvert_exporter": "python",
   "pygments_lexer": "ipython3",
   "version": "3.9.12"
  },
  "orig_nbformat": 4,
  "vscode": {
   "interpreter": {
    "hash": "65502a3f73cc00e7b77636c6552b1eb663fb3bdd00b203193cf636158de71b39"
   }
  }
 },
 "nbformat": 4,
 "nbformat_minor": 2
}
